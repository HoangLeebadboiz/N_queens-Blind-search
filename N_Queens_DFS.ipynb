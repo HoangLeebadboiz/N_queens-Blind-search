{
 "cells": [
  {
   "cell_type": "code",
   "execution_count": 1,
   "metadata": {},
   "outputs": [],
   "source": [
    "import numpy as np"
   ]
  },
  {
   "cell_type": "code",
   "execution_count": 2,
   "metadata": {},
   "outputs": [],
   "source": [
    "class Board:\n",
    "    def __init__(self, n) :\n",
    "        self.N = n\n",
    "\n",
    "    def Draw_board(self, position : np.array):\n",
    "        for i in range(self.N):\n",
    "            for j in range(self.N):\n",
    "                if j  == position[i]:\n",
    "                    print('|', end= 'Q')\n",
    "                else:\n",
    "                    print('|', end= ' ')\n",
    "            print('|')"
   ]
  },
  {
   "cell_type": "code",
   "execution_count": 3,
   "metadata": {},
   "outputs": [],
   "source": [
    "class DFS:\n",
    "    def __init__(self, n):\n",
    "        self.n = n\n",
    "        self.solutions = []\n",
    "\n",
    "    def is_safe(self, board, row, col):\n",
    "        # Kiểm tra xem vị trí đặt quân hậu có hợp lệ hay không\n",
    "        for i in range(row):\n",
    "            if board[i] == col or \\\n",
    "               board[i] - i == col - row or \\\n",
    "               board[i] + i == col + row:\n",
    "                return False\n",
    "        return True\n",
    "\n",
    "    def solve_nqueens(self):\n",
    "        def dfs(row, board):\n",
    "            if len(self.solutions) == 1:\n",
    "                return\n",
    "            if row == self.n:\n",
    "                self.solutions.append(np.array(board))\n",
    "                return\n",
    "            for col in range(self.n):\n",
    "                if self.is_safe(board, row, col):\n",
    "                    board.append(col)\n",
    "                    dfs(row + 1, board)\n",
    "                    board.pop()\n",
    "\n",
    "        dfs(0, [])\n",
    "        return self.solutions"
   ]
  },
  {
   "cell_type": "code",
   "execution_count": 4,
   "metadata": {},
   "outputs": [
    {
     "name": "stdout",
     "output_type": "stream",
     "text": [
      "Solution 1 : [ 0  2  4  1  3 12 14 11 17 19 16  8 15 18  7  9  6 13  5 10]\n",
      "|Q| | | | | | | | | | | | | | | | | | | |\n",
      "| | |Q| | | | | | | | | | | | | | | | | |\n",
      "| | | | |Q| | | | | | | | | | | | | | | |\n",
      "| |Q| | | | | | | | | | | | | | | | | | |\n",
      "| | | |Q| | | | | | | | | | | | | | | | |\n",
      "| | | | | | | | | | | | |Q| | | | | | | |\n",
      "| | | | | | | | | | | | | | |Q| | | | | |\n",
      "| | | | | | | | | | | |Q| | | | | | | | |\n",
      "| | | | | | | | | | | | | | | | | |Q| | |\n",
      "| | | | | | | | | | | | | | | | | | | |Q|\n",
      "| | | | | | | | | | | | | | | | |Q| | | |\n",
      "| | | | | | | | |Q| | | | | | | | | | | |\n",
      "| | | | | | | | | | | | | | | |Q| | | | |\n",
      "| | | | | | | | | | | | | | | | | | |Q| |\n",
      "| | | | | | | |Q| | | | | | | | | | | | |\n",
      "| | | | | | | | | |Q| | | | | | | | | | |\n",
      "| | | | | | |Q| | | | | | | | | | | | | |\n",
      "| | | | | | | | | | | | | |Q| | | | | | |\n",
      "| | | | | |Q| | | | | | | | | | | | | | |\n",
      "| | | | | | | | | | |Q| | | | | | | | | |\n"
     ]
    }
   ],
   "source": [
    "n = int(input(\"Nhập số quân hậu: \"))\n",
    "Board = Board(n)\n",
    "solution = DFS(n)\n",
    "solution.solve_nqueens()\n",
    "for i, position in enumerate(solution.solutions):\n",
    "    print(\"Solution\", i + 1, ':', position)\n",
    "    Board.Draw_board(position)"
   ]
  }
 ],
 "metadata": {
  "kernelspec": {
   "display_name": "Python 3",
   "language": "python",
   "name": "python3"
  },
  "language_info": {
   "codemirror_mode": {
    "name": "ipython",
    "version": 3
   },
   "file_extension": ".py",
   "mimetype": "text/x-python",
   "name": "python",
   "nbconvert_exporter": "python",
   "pygments_lexer": "ipython3",
   "version": "3.10.9"
  }
 },
 "nbformat": 4,
 "nbformat_minor": 2
}
