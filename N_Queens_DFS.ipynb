{
 "cells": [
  {
   "cell_type": "code",
   "execution_count": 89,
   "metadata": {},
   "outputs": [],
   "source": [
    "import numpy as np"
   ]
  },
  {
   "cell_type": "code",
   "execution_count": 90,
   "metadata": {},
   "outputs": [],
   "source": [
    "class Board:\n",
    "    def __init__(self, n) :\n",
    "        self.N = n\n",
    "        #self.n_queens = np.zeros((n, 2), dtype= int)\n",
    "        #self.n_queens = n_queens\n",
    "\n",
    "    def Draw_board(self, position : np.array):\n",
    "        for i in range(self.N):\n",
    "            for j in range(self.N):\n",
    "                if j  == position[i]:\n",
    "                    print('|', end= 'Q')\n",
    "                else:\n",
    "                    print('|', end= ' ')\n",
    "            print('|')"
   ]
  },
  {
   "cell_type": "code",
   "execution_count": 91,
   "metadata": {},
   "outputs": [],
   "source": [
    "class DFS:\n",
    "    def __init__(self, n):\n",
    "        self.n = n\n",
    "        self.solutions = []\n",
    "\n",
    "    def is_safe(self, board, row, col):\n",
    "        # Kiểm tra xem có quân hậu nào ở cùng cột trước đó không\n",
    "        for i in range(row):\n",
    "            if board[i] == col or \\\n",
    "               board[i] - i == col - row or \\\n",
    "               board[i] + i == col + row:\n",
    "                return False\n",
    "        return True\n",
    "\n",
    "    def solve_nqueens(self):\n",
    "        def dfs(row, board):\n",
    "            if row == self.n:\n",
    "                self.solutions.append(np.array(board))\n",
    "                return\n",
    "            for col in range(self.n):\n",
    "                if self.is_safe(board, row, col):\n",
    "                    board.append(col)\n",
    "                    dfs(row + 1, board)\n",
    "                    if len(self.solutions) == 1:\n",
    "                        return\n",
    "                    board.pop()\n",
    "\n",
    "        dfs(0, [])\n",
    "        return self.solutions"
   ]
  },
  {
   "cell_type": "code",
   "execution_count": 92,
   "metadata": {},
   "outputs": [
    {
     "name": "stdout",
     "output_type": "stream",
     "text": [
      "\n",
      "Solution 1 :\n",
      "|Q| | | | | | | | | | | | | | | | | |\n",
      "| | |Q| | | | | | | | | | | | | | | |\n",
      "| | | | |Q| | | | | | | | | | | | | |\n",
      "| |Q| | | | | | | | | | | | | | | | |\n",
      "| | | | | | | |Q| | | | | | | | | | |\n",
      "| | | | | | | | | | | | | | |Q| | | |\n",
      "| | | | | | | | | | | |Q| | | | | | |\n",
      "| | | | | | | | | | | | | | | |Q| | |\n",
      "| | | | | | | | | | | | |Q| | | | | |\n",
      "| | | | | | | | | | | | | | | | |Q| |\n",
      "| | | | | |Q| | | | | | | | | | | | |\n",
      "| | | | | | | | | | | | | | | | | |Q|\n",
      "| | | | | | |Q| | | | | | | | | | | |\n",
      "| | | |Q| | | | | | | | | | | | | | |\n",
      "| | | | | | | | | | |Q| | | | | | | |\n",
      "| | | | | | | | |Q| | | | | | | | | |\n",
      "| | | | | | | | | | | | | |Q| | | | |\n",
      "| | | | | | | | | |Q| | | | | | | | |\n"
     ]
    }
   ],
   "source": [
    "n = int(input(\"Nhập số quân hậu: \"))\n",
    "Board = Board(n)\n",
    "solution = DFS(n)\n",
    "solution.solve_nqueens()\n",
    "print()\n",
    "for i, position in enumerate(solution.solutions):\n",
    "    print(\"Solution\", i + 1, ':')\n",
    "    Board.Draw_board(position)"
   ]
  }
 ],
 "metadata": {
  "kernelspec": {
   "display_name": "Python 3",
   "language": "python",
   "name": "python3"
  },
  "language_info": {
   "codemirror_mode": {
    "name": "ipython",
    "version": 3
   },
   "file_extension": ".py",
   "mimetype": "text/x-python",
   "name": "python",
   "nbconvert_exporter": "python",
   "pygments_lexer": "ipython3",
   "version": "3.10.9"
  }
 },
 "nbformat": 4,
 "nbformat_minor": 2
}
