{
 "cells": [
  {
   "cell_type": "code",
   "execution_count": 46,
   "metadata": {},
   "outputs": [],
   "source": [
    "import numpy as np"
   ]
  },
  {
   "cell_type": "code",
   "execution_count": 47,
   "metadata": {},
   "outputs": [],
   "source": [
    "class Board:\n",
    "    def __init__(self, n) :\n",
    "        self.N = n\n",
    "        #self.n_queens = np.zeros((n, 2), dtype= int)\n",
    "        #self.n_queens = n_queens\n",
    "\n",
    "    def Draw_board(self, position : np.array):\n",
    "        for i in range(self.N):\n",
    "            for j in range(self.N):\n",
    "                if position[i, j] == 0:\n",
    "                    print('|', end= ' ')\n",
    "                else:\n",
    "                    print('|', end= 'Q')\n",
    "            print('|')"
   ]
  },
  {
   "cell_type": "code",
   "execution_count": 48,
   "metadata": {},
   "outputs": [],
   "source": [
    "class BFS:\n",
    "    def __init__(self, n):\n",
    "        self.n = n\n",
    "        self.solutions = []\n",
    "\n",
    "    def is_safe(self, board, row, col):\n",
    "        # Kiểm tra xem có quân hậu nào ở cùng cột trước đó không\n",
    "        for i in range(row):\n",
    "            if board[i][col] == 1:\n",
    "                return False\n",
    "\n",
    "        # Kiểm tra đường chéo trái trên\n",
    "        for i, j in zip(range(row, -1, -1), range(col, -1, -1)):\n",
    "            if board[i][j] == 1:\n",
    "                return False\n",
    "\n",
    "        # Kiểm tra đường chéo phải trên\n",
    "        for i, j in zip(range(row, -1, -1), range(col, self.n)):\n",
    "            if board[i][j] == 1:\n",
    "                return False\n",
    "\n",
    "        return True\n",
    "\n",
    "    def solve_nqueens(self):\n",
    "        # Tạo queue để lưu trạng thái ban đầu\n",
    "        queue = []\n",
    "\n",
    "        # Bắt đầu từ hàng đầu tiên\n",
    "        for i in range(self.n):\n",
    "            board = [[0] * self.n for _ in range(self.n)]\n",
    "            board[0][i] = 1\n",
    "            queue.append((board, 1))\n",
    "\n",
    "        while queue:\n",
    "            board, row = queue.pop(0)  # Lấy trạng thái từ queue\n",
    "\n",
    "            if row == self.n:\n",
    "                # Nếu đã đặt N quân hậu, thì lưu giải pháp\n",
    "                solution = np.array(board.copy())\n",
    "                self.solutions.append(solution)\n",
    "            else:\n",
    "                # Nếu chưa đặt đủ N quân hậu, thử đặt ở hàng tiếp theo\n",
    "                for col in range(self.n):\n",
    "                    if self.is_safe(board, row, col):\n",
    "                        new_board = [row[:] for row in board]\n",
    "                        new_board[row][col] = 1\n",
    "                        queue.append((new_board, row + 1))\n",
    "\n",
    "        return self.solutions"
   ]
  },
  {
   "cell_type": "code",
   "execution_count": 49,
   "metadata": {},
   "outputs": [
    {
     "name": "stdout",
     "output_type": "stream",
     "text": [
      "[]\n",
      "Solution 1 :\n",
      "| |Q| | |\n",
      "| | | |Q|\n",
      "|Q| | | |\n",
      "| | |Q| |\n",
      "Solution 2 :\n",
      "| | |Q| |\n",
      "|Q| | | |\n",
      "| | | |Q|\n",
      "| |Q| | |\n"
     ]
    }
   ],
   "source": [
    "n = int(input(\"Nhập số quân hậu: \"))\n",
    "Board = Board(n)\n",
    "solution = BFS(n)\n",
    "print(solution.solutions)\n",
    "solution.solve_nqueens()\n",
    "for i, position in enumerate(solution.solutions):\n",
    "    print(\"Solution\", i + 1, ':')\n",
    "    Board.Draw_board(position)"
   ]
  }
 ],
 "metadata": {
  "kernelspec": {
   "display_name": "Python 3",
   "language": "python",
   "name": "python3"
  },
  "language_info": {
   "codemirror_mode": {
    "name": "ipython",
    "version": 3
   },
   "file_extension": ".py",
   "mimetype": "text/x-python",
   "name": "python",
   "nbconvert_exporter": "python",
   "pygments_lexer": "ipython3",
   "version": "3.10.9"
  }
 },
 "nbformat": 4,
 "nbformat_minor": 2
}
