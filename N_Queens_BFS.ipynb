{
 "cells": [
  {
   "cell_type": "code",
   "execution_count": 1,
   "metadata": {},
   "outputs": [],
   "source": [
    "import numpy as np"
   ]
  },
  {
   "cell_type": "code",
   "execution_count": 2,
   "metadata": {},
   "outputs": [],
   "source": [
    "class Board:\n",
    "    def __init__(self, n) :\n",
    "        self.N = n\n",
    "\n",
    "    def Draw_board(self, position : np.array):\n",
    "        for i in range(self.N):\n",
    "            for j in range(self.N):\n",
    "                if j  == position[i]:\n",
    "                    print('|', end= 'Q')\n",
    "                else:\n",
    "                    print('|', end= ' ')\n",
    "            print('|')"
   ]
  },
  {
   "cell_type": "code",
   "execution_count": 3,
   "metadata": {},
   "outputs": [],
   "source": [
    "class BFS:\n",
    "    def __init__(self, n):\n",
    "        self.n = n\n",
    "        self.solutions = []\n",
    "    \n",
    "    def is_safe(self, board, row, col):\n",
    "        # Kiểm tra xem vị trí đặt quân hậu có hợp lệ hay không\n",
    "        for i in range(row):\n",
    "            if board[i] == col or \\\n",
    "               board[i] - i == col - row or \\\n",
    "               board[i] + i == col + row:\n",
    "                return False\n",
    "        return True\n",
    "\n",
    "    def solve_nqueens(self):\n",
    "        # Tạo queue để lưu trạng thái ban đầu\n",
    "        queue = []\n",
    "\n",
    "        # Bắt đầu từ hàng đầu tiên\n",
    "        for i in range(self.n):\n",
    "            board = np.array([0]*self.n)\n",
    "            board[0] = i\n",
    "            queue.append((board, 1))\n",
    "\n",
    "        while queue:\n",
    "            board, row = queue.pop(0)  # Lấy trạng thái từ queue\n",
    "\n",
    "            if len(self.solutions) == 1:\n",
    "                break\n",
    "\n",
    "            if row == self.n:\n",
    "                # Nếu đã đặt N quân hậu, thì lưu giải pháp\n",
    "                self.solutions.append(board)\n",
    "            else:\n",
    "                # Nếu chưa đặt đủ N quân hậu, thử đặt ở hàng tiếp theo\n",
    "                for col in range(self.n):\n",
    "                    if self.is_safe(board, row, col):\n",
    "                        new_board = board.copy()\n",
    "                        new_board[row] = col\n",
    "                        queue.append((new_board, row + 1))\n",
    "\n",
    "        return self.solutions"
   ]
  },
  {
   "cell_type": "code",
   "execution_count": 4,
   "metadata": {},
   "outputs": [
    {
     "name": "stdout",
     "output_type": "stream",
     "text": [
      "Solution 1 :\n",
      "|Q| | | | | | | | | |\n",
      "| | |Q| | | | | | | |\n",
      "| | | | | |Q| | | | |\n",
      "| | | | | | | |Q| | |\n",
      "| | | | | | | | | |Q|\n",
      "| | | | |Q| | | | | |\n",
      "| | | | | | | | |Q| |\n",
      "| |Q| | | | | | | | |\n",
      "| | | |Q| | | | | | |\n",
      "| | | | | | |Q| | | |\n"
     ]
    }
   ],
   "source": [
    "n = int(input(\"Nhập số quân hậu: \"))\n",
    "Board = Board(n)\n",
    "solution = BFS(n)\n",
    "solution.solve_nqueens()\n",
    "for i, position in enumerate(solution.solutions):\n",
    "    print(\"Solution\", i + 1, ':')\n",
    "    Board.Draw_board(position)"
   ]
  }
 ],
 "metadata": {
  "kernelspec": {
   "display_name": "Python 3",
   "language": "python",
   "name": "python3"
  },
  "language_info": {
   "codemirror_mode": {
    "name": "ipython",
    "version": 3
   },
   "file_extension": ".py",
   "mimetype": "text/x-python",
   "name": "python",
   "nbconvert_exporter": "python",
   "pygments_lexer": "ipython3",
   "version": "3.10.9"
  }
 },
 "nbformat": 4,
 "nbformat_minor": 2
}
